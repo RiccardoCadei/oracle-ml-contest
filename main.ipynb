{
 "cells": [
  {
   "cell_type": "markdown",
   "metadata": {},
   "source": [
    "## DOMAIN OF THE DATA\n",
    "<br>\n",
    " PPI network can be represented as a graph with a total of $\\space n = 56944 \\space$ nodes ($\\space n_{train} = 44906 \\space$ in the training set and $\\space n_{test} = 12038 \\space$ in the test set) \n",
    " where each node can be identified with a specific protein. \n",
    " Furthermore each node is characterized with a <b>really sparse</b> binary features \n",
    " vector $\\space x\\in \\{0,1\\}^{50} \\space$ and a fixed number of undirected edges that connect each node to the others. \n",
    "\n",
    "In addition to the features we have the labels  of the training set ( a vector $l\\in \\{0,1\\}^{122}$)\n",
    "and our goal is to predict the labels of the test set with the best accuracy (F1 score will be evaluated). \n",
    "These are the data distributions: \n",
    "\n",
    "<div>\n",
    "<img src=\"./images/Training_set_features.png\" height=280 width=280>\n",
    "<img src=\"./images/Training_set_feature_elements.png\" height=280 width=280>\n",
    "<img src=\"./images/test_set_features.png\" height=280 width=280>\n",
    "</div>\n",
    "\n",
    "<div>\n",
    "<img src=\"./images/Test_set_feature_elements.png\" height=280 width=280>\n",
    "<img src=\"./images/labels.png\" height=280 width=280>\n",
    "<img src=\"./images/label_component.png\" height=280 width=280>\n",
    "</div>\n",
    "\n",
    "'Feature10' ( which corresponds to the third element in the plot ) is costant to zero in each sample of the dataset,\n",
    "we delete it since it cannot explain any causal correlation with the labels. \n",
    "Overall, the sparsity of the features tells us that we'll need to extract as much information as we can from graph structure. \n",
    "As far as labels are concerned, under the assumption of independence between label classes,\n",
    "for the Central Limit Theorem we can conclude that the means of the elements belonging to each one of the 122 classes \n",
    "will be the same between training and test set. ( this will come in handy at the end )\n",
    "\n",
    "<br>"
   ]
  },
  {
   "cell_type": "code",
   "execution_count": 2,
   "metadata": {},
   "outputs": [],
   "source": [
    "import numpy as np\n",
    "import utils  \n",
    "from node2vec import Node2Vec  # NODE2VEC EMBEDDINGS \n",
    "import classifier as clf  # VERTEX CLASSIFIER\n",
    "import matplotlib.pyplot as plt  # PLOTTING\n",
    "\n"
   ]
  },
  {
   "cell_type": "markdown",
   "metadata": {},
   "source": [
    "<br>\n",
    "\n",
    "## LOADING THE DATA\n",
    "\n",
    "<br>\n",
    "<div>\n",
    "<font size=\"3\">In the following section we define four foundamental matrices:</font>\n",
    "<ul>\n",
    "    <li>$X_{train}\\in \\{0,1\\}^{n_{train}\\times49}$</li>\n",
    "    <br>\n",
    "    <li>$X_{test}\\in \\{0,1\\}^{n_{test}\\times49}$ </li>\n",
    "    <br>\n",
    "    <li>$X = \\begin{bmatrix}X_{train} \\\\ X_{test}\\end{bmatrix} \\in \\{0,1\\}^{n\\times49}$</li>\n",
    "    <br>\n",
    "    <li>$L\\in \\{0,1\\}^{n\\times122}$ \n",
    " </li>\n",
    "</ul>\n",
    "</div>"
   ]
  },
  {
   "cell_type": "code",
   "execution_count": 186,
   "metadata": {},
   "outputs": [],
   "source": [
    "# LOADING THE DATA\n",
    "vertices_train, vertices_test = utils.build_vertices()\n",
    "\n",
    "X_train_df = utils.build_dataframe(vertices_train, \"feature\")\n",
    "X_train_df = X_train_df.drop(['feature_10'], axis=1)  # DROP USELESS FEATURE\n",
    "\n",
    "X_test_df = utils.build_dataframe(vertices_test, \"feature\")\n",
    "X_test_df = X_test_df.drop(['feature_10'], axis=1)  # DROP USELESS FEATURE\n",
    "\n",
    "labels_df = utils.build_dataframe(vertices_train, \"label\", preserve_int_col_name=True)\n",
    "\n",
    "\n",
    "# BUILDING NUMPY MATRICES \n",
    "X_train = X_train_df.values\n",
    "X_test = X_test_df.values\n",
    "X = np.concatenate((X_train, X_test), axis=0)\n",
    "labels = labels_df.values"
   ]
  },
  {
   "cell_type": "markdown",
   "metadata": {},
   "source": [
    "<br>\n",
    "<font size=\"3\">Here we define our graph  $\\space G = (V,E)\\space$ that represents the PPI network and we explicit all the edges.</font>\n",
    "\n",
    "<br>\n",
    "<br>\n",
    "<div>\n",
    "<font size=\"3\">Then we build our masks for training and test set : </font>\n",
    "<ul>\n",
    "    <li>$idx_{train} =  \\begin{pmatrix} 0,1\\dots44905 \\end{pmatrix} $</li>\n",
    "    <br>\n",
    "    <li>$idx_{test} = \\begin{pmatrix} 44906,44907\\dots56943 \\end{pmatrix} $ </li>\n",
    "    <br>\n",
    "</ul>\n",
    "</div>"
   ]
  },
  {
   "cell_type": "code",
   "execution_count": 6,
   "metadata": {},
   "outputs": [],
   "source": [
    "# MASK FOR TRAIN/TEST\n",
    "train_idx = range(X_train.shape[0])\n",
    "test_idx = range(X_train.shape[0],X.shape[0])\n",
    "\n",
    "# BUILDING THE GRAPH\n",
    "G = utils.build_graph()\n",
    "G = G.to_directed()  \n"
   ]
  },
  {
   "cell_type": "markdown",
   "metadata": {},
   "source": [
    "<br>\n",
    "\n",
    "## NODE2VEC\n",
    "\n",
    "\n",
    "In our first approach we ignore the features matrix $\\space X \\space$, instead we embed the vertexes with Node2Vec algorithm, using a definition of neighborhood as flexible as possible.\n",
    "\n",
    "$ Node2Vec(G) \\mapsto R^{128} \\space$ \n",
    "\n",
    "For every source node $u\\in V$ , we define $\\space N_{s}(u) \\subset V\\space$  as a network neighborhood of node $u$ generated through a neighborhood sampling strategy $S$\n",
    "The strategy $S$ of Node2Vec is the following.\n",
    "Given a source node $\\space u\\space$, we simulate a random walk of fixed length $\\space l\\space$. Let $\\space c_{i}$ denote the $\\space i_{th}\\space$ node in the walk, starting with $c_{0} = u\\space$. Nodes $\\space c_{i} \\space$ are generated with the following distribution: $\\space P(c_{i} = x \\mid c_{i-1}=v)  =   \\begin{cases} \n",
    "      \\frac{\\pi_{vx}}{Z} & if \\space(v,x) \\in E \\\\\n",
    "      0 & otherwise\n",
    "   \\end{cases}\n",
    "$\n",
    "where $\\space \\pi_{vx} \\space$ is the unnormalized transition probability between nodes $\\space v \\space$ and $\\space x \\space$, and $\\space Z \\space$ is the normalizing constant. \n",
    "\n",
    "Consider a random walk that just traversed\n",
    "edge $(t, v)$ and now resides at node $v$. The walk now needs to decide on the next step so it evaluates the transition probabilities $\\pi_{vx}$ on edges $(v, x)$ leading from $v$. We set then the unnormalized transition probability to $\\space \\pi_{vx} =\\alpha_{pq}(t, x)\\cdot w_{vx}$, where, $\\space \\alpha_{pq}(t, x) =  \\begin{cases} \n",
    "      \\frac{1}{p} & if \\space d_{tx}=0 \\\\\n",
    "       1 & if \\space d_{tx}=1 \\\\\n",
    "      \\frac{1}{q} & if \\space d_{tx}=2\n",
    "   \\end{cases}\\space\n",
    "$ and in our graph $\\space w = 1 \\space$ since the edges are unweighted. \n",
    "\n",
    "The use of two parameters $\\space p \\space$ and $\\space q \\space$ allowed us to combine in a single path breadth-first sampling and depth-first sampling. In particular the return parameter $\\space p \\space$  controls the likelihood of immediately revisiting a node in the walk, and the in-out parameters 'q' allowes the search to differentiate between \"inward\" and \"outward\"nodes. Here we set $\\space p = 1 \\space$  and $\\space q =5 \\space$  biasing the walks close to node $\\space t \\space$ (BFS) in order to emphasize structural equivalence.\n",
    "<div align=center>\n",
    "<img  src=\"./images/node2vec.jpg\" height=280 width=280>\n",
    "</div>"
   ]
  },
  {
   "cell_type": "code",
   "execution_count": null,
   "metadata": {},
   "outputs": [],
   "source": [
    "# GENERATING WALKS OVER THE GRAPH\n",
    "node2vec = Node2Vec(G, dimensions=128, walk_length=12, num_walks=10, p=1, q=5) \n"
   ]
  },
  {
   "cell_type": "markdown",
   "metadata": {},
   "source": [
    "<br>\n",
    "\n",
    "### SKIP-GRAM \n",
    "\n",
    "We proceed by applying the Skip-gram model. We seek to optimize the following objective function, which maximizes the log-probability of observing a network neighborhood $\\space N_{S}(u)\\space$ for a node u conditioned on its feature representation, given by f: \n",
    "\n",
    "$$\n",
    " \\max_{f} \\sum_{u \\in V} \\log P(N_{s}(u)\\mid f(u)) $$\n",
    "\n",
    "In order to make the optimization problem solvable we make two standard assumptions:\n",
    "\n",
    "• Conditional independence. We factorize the likelihood by assuming that the probability of observing a neighborhood node given the embedding representation of the source node is independent of  any other neighborhood node:\n",
    "\n",
    "$$ P(N_{s}(u)\\mid f(u)) = \\prod_{n_{i} \\in N_{s}(u)}P(n_{i} \\mid f(u)) $$\n",
    "\n",
    "\n",
    "• Symmetry in feature space. A source node and neighborhood node have a symmetric effect over each other in feature space. Accordingly, we model the conditional likelihood of every source-neighborhood node pair as a softmax unit parametrized by a dot product of their embeddings:\n",
    "\n",
    "$$P(n_{i} \\mid f(u)) = \\frac{\\exp(\\space f(n_{i}) \\cdot f(u))}{\\sum_{v \\in V}\\exp(f(v) \\cdot f(u)} $$\n",
    "\n",
    "\n",
    "With the above assumptions, the objective function simplifies to:\n",
    "\n",
    "$$ \\max_{f} \\sum_{u \\in V}\\bigg[-\\log Z_{u} + \\sum_{n_{i} \\in N_{s}(u)}f(n_{i} \\cdot f(u)\\bigg]$$\n",
    "\n",
    "which is a simp"
   ]
  },
  {
   "cell_type": "code",
   "execution_count": null,
   "metadata": {},
   "outputs": [],
   "source": [
    "# FITTING THE SKIP-GRAM MODEL\n",
    "skipgram = node2vec.fit(window=8)\n",
    "\n",
    "\n",
    "#  SAVING OUR EMBEDDINGS\n",
    "embedding_n2v = skipgram[skipgram.wv.vocab]   \n",
    "np.save('./embedding/embedding_n2v.npy', embedding_n2v)  # SAVING AS  A .NPY FILE"
   ]
  },
  {
   "cell_type": "markdown",
   "metadata": {},
   "source": [
    "SPIEGA CHE CONCATENIAMO FEATURES CON EMBEDDING PER CLASSIFICARE, ACCENNO SULLA TRAIN ACCURACY (?), ACCENNO AL FATTO CHE NEL CLASSIFIER BILANCIAMO I PESI"
   ]
  },
  {
   "cell_type": "code",
   "execution_count": 15,
   "metadata": {},
   "outputs": [
    {
     "name": "stdout",
     "output_type": "stream",
     "text": [
      "\tHamming accuracy: 0.438\n",
      "\tAccuracy, exact matches: 0.000\n",
      "\tMacro F1 Score: 0.439\n",
      "\tMicro F1 Score: 0.470\n"
     ]
    }
   ],
   "source": [
    "# X MATRIX FOR CLASSIFICATION\n",
    "train_embedding_n2v = embedding_n2v[train_idx]  # EXTRACTING TRAINING SET EMBEDDINGS\n",
    "test_embedding_n2v = embedding_n2v[test_idx]  #  EXTRACTING TEST SET EMBEDDING\n",
    "X_train_n2v = np.concatenate((X_train, train_embedding_n2v), axis=1)  #  FEATURES + EMBEDDING\n",
    "X_test_n2v = np.concatenate((X_test, test_embedding_n2v), axis=1)  # FEATURES + EMBEDDINGS\n",
    "\n",
    "\n",
    "#  TESTING VALIDATION ACCURACY\n",
    "#clf.validation_accuracy(X_train_n2v, labels)\n",
    "\n",
    "#  TESTING TRAIN ACCURACY\n",
    "node2vec_model = clf.fit_model(X_train_n2v, labels)  # RETURNS TRAINED MODEL AND TRAIN ACCURACY\n",
    "\n",
    "\n",
    "#  MAKING PREDICTIONS\n",
    "node2vec_pred = node2vec_model.predict_proba(X_test_n2v) > 0.4  # EVALUATING PREDICTIONS\n",
    "utils.get_results('./results/node2vec_pred.csv',node2vec_pred, X_test_df)  # SAVING RESULTS IN A .CSV FOR KAGGLE\n",
    "\n"
   ]
  },
  {
   "cell_type": "markdown",
   "metadata": {},
   "source": [
    "COMMENTO SUI RISULTATI OTTENUTI CON NODE2VEC, !!INTRODUZIONE AL PROSSIMO APPROCCIO( GCN ) \n",
    ", SBIZZARRISCITI..\n"
   ]
  },
  {
   "cell_type": "code",
   "execution_count": 187,
   "metadata": {},
   "outputs": [],
   "source": [
    "import torch\n",
    "from gcn.model import GCN \n",
    "from train  import train_model \n"
   ]
  },
  {
   "cell_type": "markdown",
   "metadata": {},
   "source": [
    "PARAMETRO  LAMDA PER GLI AUTOANELLI , SPIEGA COME VIENE CREATA LA MATRICE ( DAI UN OCCHIO ALLA FUNZIONE IN UTILS.PY ) \n"
   ]
  },
  {
   "cell_type": "code",
   "execution_count": 188,
   "metadata": {},
   "outputs": [],
   "source": [
    "# BUILDING ADJ MATRIX FOR GCN\n",
    "A = utils.adjacency_matrix_GCN(G, 1)  \n",
    "\n",
    "\n",
    "# DEFINING OUR PARAMETERS\n",
    "n_features = X.shape[1]\n",
    "n_classes = labels.shape[1]\n",
    "n_hidden = 32  #  NUMBER OF HIDDEN PARAMETERS IN OUR NET\n"
   ]
  },
  {
   "cell_type": "markdown",
   "metadata": {},
   "source": [
    "QUI VIENE CREATO E ALLENATO IL MODELLO..MAGARI UN BREVE ACCENNO ALLA STUTTURA ( 2 LAYER, HIDDEN PARAMETERS,DROPOUT)"
   ]
  },
  {
   "cell_type": "code",
   "execution_count": null,
   "metadata": {},
   "outputs": [
    {
     "name": "stderr",
     "output_type": "stream",
     "text": [
      " 86%|████████▌ | 43/50 [00:48<00:07,  1.09s/it]"
     ]
    }
   ],
   "source": [
    "# CREATING AND TRAINING OUR MODEL\n",
    "\n",
    "gcn_model = GCN(n_features, n_hidden, n_classes, dropout=0.5)\n",
    "embedding_gcn = train_model(gcn_model, X, A, labels, train_idx, epochs=50, lr=0.005, wd=5e-3)\n"
   ]
  },
  {
   "cell_type": "code",
   "execution_count": 11,
   "metadata": {},
   "outputs": [
    {
     "name": "stdout",
     "output_type": "stream",
     "text": [
      "\tHamming accuracy: 0.710\n",
      "\tAccuracy, exact matches: 0.000\n"
     ]
    },
    {
     "name": "stderr",
     "output_type": "stream",
     "text": [
      "/usr/local/lib/python3.6/site-packages/sklearn/metrics/classification.py:1135: UndefinedMetricWarning: F-score is ill-defined and being set to 0.0 in labels with no predicted samples.\n",
      "  'precision', 'predicted', average, warn_for)\n"
     ]
    },
    {
     "name": "stdout",
     "output_type": "stream",
     "text": [
      "\tMacro F1 Score: 0.195\n",
      "\tMicro F1 Score: 0.506\n"
     ]
    }
   ],
   "source": [
    "#  EXTRACTING EMBEDDINGS \n",
    "train_embedding_gcn = embedding_gcn[train_idx]\n",
    "test_embedding_gcn = embedding_gcn[test_idx]\n",
    "\n",
    "\n",
    "#  TESTING TRAIN ACCURACY (SIGMOID TRESHOLD SET AT 0.4 )\n",
    "gcn_train_pred = torch.sigmoid(train_embedding_gcn).detach().numpy() > 0.4 \n",
    "utils.get_score(gcn_train_pred, labels)  # HAMMING ACCURACY, F1-MICRO, F1-MACRO\n",
    "\n",
    "#  SAVING THE EMBEDDING\n",
    "np.save('./embedding/embedding_gcn.npy', embedding_gcn.detach().numpy())  # .NPY FILE\n",
    "\n"
   ]
  },
  {
   "cell_type": "markdown",
   "metadata": {},
   "source": [
    "COMMENTO SUI RISULTATI OTTENUTI ( TRAINING ACCURACY ) "
   ]
  },
  {
   "cell_type": "code",
   "execution_count": 12,
   "metadata": {},
   "outputs": [],
   "source": [
    "#  MAKING OUR PREDICTION\n",
    "gcn_test_pred = torch.sigmoid(test_embedding_gcn).detach().numpy() > 0.5  # PREDICTIONS ON TEST SET\n",
    "gcn_test_pred = utils.a_third_law(labels,gcn_test_pred) # 0.475 accuracy\n",
    "utils.get_results('./results/gcn_pred.csv',gcn_test_pred, X_test_df)  # SAVING RESULTS IN A .CSV \n"
   ]
  },
  {
   "cell_type": "markdown",
   "metadata": {},
   "source": [
    "CONCLUSIONI FINALI SULLA GCN ( ACCURACY PRATICAMENTE UGUALE A NODE2VEC SE NON INFERIORE ) ( LE FEATURE NON SERVONO A NULLA??) "
   ]
  },
  {
   "cell_type": "markdown",
   "metadata": {},
   "source": [
    "PASSIAMO AL PROSSIMO APPROCCIO.. SAGE ( SBIZZARRISCITI )"
   ]
  },
  {
   "cell_type": "code",
   "execution_count": 13,
   "metadata": {},
   "outputs": [],
   "source": [
    "from sage.model import SAGE\n"
   ]
  },
  {
   "cell_type": "markdown",
   "metadata": {},
   "source": [
    "STRUTTURA DEL MODELLO UGUALE A GCN ( 2LAYER , HIDDEN PARAMETERS..) SCRIVI QUELLO CHE PREFERISCI.."
   ]
  },
  {
   "cell_type": "code",
   "execution_count": 14,
   "metadata": {
    "collapsed": true
   },
   "outputs": [
    {
     "name": "stderr",
     "output_type": "stream",
     "text": [
      "100%|██████████| 25/25 [04:31<00:00, 10.88s/it]\n"
     ]
    },
    {
     "name": "stdout",
     "output_type": "stream",
     "text": [
      "\tHamming accuracy: 0.306\n",
      "\tAccuracy, exact matches: 0.000\n",
      "\tMacro F1 Score: 0.445\n",
      "\tMicro F1 Score: 0.468\n"
     ]
    }
   ],
   "source": [
    "#  CREATING THE MODEL\n",
    "edge_list = torch.LongTensor(utils.edge_list_SAGE())  # list of all the edges\n",
    "sage_model = SAGE(n_features, n_hidden, n_classes, 0.5)\n",
    "\n",
    "\n",
    "#  TRAINING THE MODEL \n",
    "embedding_sage = train_model(sage_model, X, edge_list, labels, train_idx, epochs=25, lr=0.1,wd=5e-3)\n",
    "sage_train_pred = torch.sigmoid(embedding_sage[train_idx]).detach().numpy() > 0.5# TRESHOLD ON SIGMOID PROBABILITIES\n",
    "sage_train_pred = utils.a_third_law(labels,sage_test_pred)\n",
    "utils.get_score(sage_train_pred, labels)  # HAMMING ACCURACY, F1-MICRO, F1-MACRO\n",
    "\n",
    "\n",
    "#  SAVING THE EMBEDDING\n",
    "np.save('./embedding/embedding_sage.npy', embedding_sage.detach().numpy())  # .NPY FILE\n"
   ]
  },
  {
   "cell_type": "code",
   "execution_count": 24,
   "metadata": {},
   "outputs": [],
   "source": [
    "#  MAKING OUR PREDICTION\n",
    "sage_test_pred = torch.sigmoid(embedding_sage[test_idx]).detach().numpy() > 0.5  # PREDICTIONS ON TEST SET\n",
    "sage_test_pred = utils.a_third_law(labels,sage_test_pred) # BEST SAGE 0.477\n",
    "utils.get_results('./results/sage_test_pred.csv',sage_test_pred, X_test_df)  # SAVING RESULTS IN A .CSV \n"
   ]
  },
  {
   "cell_type": "markdown",
   "metadata": {},
   "source": [
    "CONCLUSIONI RAGGIUNTE SU SAGE.. ( NODE2VEC-GCN-SAGE TUTTI CIRCA LA  STESSA ACCURACY CIRCA 0.44/0.45/0.46 SUL TEST ) INIZIAMO A SOSPETTARE QUALCOSA(??) \n",
    "PROVIAMO A GIOCARE UN PO CON CONCATENAZIONE DEGLI EMBEDDING E PCA (?)\n"
   ]
  },
  {
   "cell_type": "code",
   "execution_count": 169,
   "metadata": {},
   "outputs": [
    {
     "name": "stdout",
     "output_type": "stream",
     "text": [
      "[CV]  ................................................................\n",
      "[CV]  ................................................................\n",
      "[CV]  ................................................................\n",
      "[CV]  ................................................................\n",
      "[CV]  ................................................................\n",
      "[CV]  ................................................................\n",
      "[CV]  ................................................................\n",
      "[CV]  ................................................................\n",
      "[CV]  ................................................................\n",
      "[CV]  ................................................................\n",
      "[CV] ................................................. , total=16.7min\n",
      "[CV] ................................................. , total=17.4min\n",
      "[CV] ................................................. , total=17.5min\n",
      "[CV] ................................................. , total=17.6min\n",
      "[CV] ................................................. , total=17.6min\n",
      "[CV] ................................................. , total=17.7min\n",
      "[CV] ................................................. , total=17.8min\n"
     ]
    },
    {
     "name": "stderr",
     "output_type": "stream",
     "text": [
      "[Parallel(n_jobs=32)]: Done   7 out of  10 | elapsed: 17.8min remaining:  7.6min\n"
     ]
    },
    {
     "name": "stdout",
     "output_type": "stream",
     "text": [
      "[CV] ................................................. , total=17.8min\n",
      "[CV] ................................................. , total=17.8min\n",
      "[CV] ................................................. , total=17.8min\n"
     ]
    },
    {
     "name": "stderr",
     "output_type": "stream",
     "text": [
      "[Parallel(n_jobs=32)]: Done  10 out of  10 | elapsed: 17.9min finished\n"
     ]
    },
    {
     "name": "stdout",
     "output_type": "stream",
     "text": [
      "Mean crossvalidation Micro-F1: 0.425\n"
     ]
    }
   ],
   "source": [
    "Y = np.concatenate((embedding_n2v,embedding_sage),axis=1)  # N2V EMBEDDING concatenated SAGE EMBEDDING\n",
    "clf.validation_accuracy(Y[train_idx],labels)"
   ]
  },
  {
   "cell_type": "markdown",
   "metadata": {},
   "source": [
    "RISULTATI UN PO DELUDENTI ( 0.425 DI MICRO ) PER LA CROSS VALIDATION (SAGE+N2V) CI ASPETTAVAMO DI MEGLIO... VALE LO STESSO PER GCN+N2V ( OMETTO PER BREVITA').\n",
    "\n",
    "PROVIAMO ORA CON UNA PCA SULLA CONCATENAZIONE"
   ]
  },
  {
   "cell_type": "code",
   "execution_count": 173,
   "metadata": {},
   "outputs": [
    {
     "name": "stdout",
     "output_type": "stream",
     "text": [
      "Explained variance:  0.9977764\n",
      "[CV]  ................................................................\n",
      "[CV]  ................................................................\n",
      "[CV]  ................................................................\n",
      "[CV]  ................................................................\n",
      "[CV]  ................................................................\n",
      "[CV]  ................................................................\n",
      "[CV]  ................................................................\n",
      "[CV]  ................................................................\n",
      "[CV]  ................................................................\n",
      "[CV]  ................................................................\n",
      "[CV] ................................................. , total= 4.0min\n",
      "[CV] ................................................. , total= 4.1min\n",
      "[CV] ................................................. , total= 4.1min\n",
      "[CV] ................................................. , total= 4.1min\n",
      "[CV] ................................................. , total= 4.1min\n",
      "[CV] ................................................. , total= 4.1min\n",
      "[CV] ................................................. , total= 4.1min\n"
     ]
    },
    {
     "name": "stderr",
     "output_type": "stream",
     "text": [
      "[Parallel(n_jobs=32)]: Done   7 out of  10 | elapsed:  4.1min remaining:  1.8min\n"
     ]
    },
    {
     "name": "stdout",
     "output_type": "stream",
     "text": [
      "[CV] ................................................. , total= 4.1min\n",
      "[CV] ................................................. , total= 4.1min\n",
      "[CV] ................................................. , total= 4.1min\n"
     ]
    },
    {
     "name": "stderr",
     "output_type": "stream",
     "text": [
      "[Parallel(n_jobs=32)]: Done  10 out of  10 | elapsed:  4.2min finished\n"
     ]
    },
    {
     "name": "stdout",
     "output_type": "stream",
     "text": [
      "Mean crossvalidation Micro-F1: 0.427\n"
     ]
    }
   ],
   "source": [
    "from sklearn.decomposition import PCA\n",
    "pca = PCA(n_components = 64)\n",
    "Y_pca = pca.fit_transform(Y)  #  250 --> 64\n",
    "print('Explained variance: ',np.sum(pca.explained_variance_ratio_))  #  GOOD EXPLAINED VARIANCE\n",
    "clf.validation_accuracy(Y_pca[train_idx],labels)     "
   ]
  },
  {
   "cell_type": "markdown",
   "metadata": {},
   "source": [
    "ALTRO RISULTATO ABBASTANZA DELUDENTE.. PROVA A COMMENTARE TU ( NON C'E' VERSO DI MIGLIORARLA STA ACCURACY )"
   ]
  },
  {
   "cell_type": "markdown",
   "metadata": {},
   "source": [
    "PASSIAMO ORA ALLA NOSTRA ULTIMA SPERANZA.. GAT ..\n"
   ]
  },
  {
   "cell_type": "code",
   "execution_count": 8,
   "metadata": {},
   "outputs": [],
   "source": [
    "from gat.ppi import PPI\n",
    "from gat.model import GAT\n",
    "from gat.training import train,test\n",
    "from torch_geometric.data import DataLoader\n"
   ]
  },
  {
   "cell_type": "code",
   "execution_count": 9,
   "metadata": {},
   "outputs": [],
   "source": [
    "#  LOADING DATASETS \n",
    "train_dataset = PPI('./gat',split='train')\n",
    "test_dataset = PPI('./gat',split='test')\n",
    "valid_dataset = PPI('./gat',split='valid')  #  LET'S KEEP SOME TRAINING SAMPLES FOR VALIDATION..\n",
    "\n",
    "\n",
    "#  BATCH TRAINING.. \n",
    "train_loader = DataLoader(train_dataset, batch_size=1, shuffle=True)\n",
    "valid_loader = DataLoader(valid_dataset, batch_size=2, shuffle=False)\n",
    "test_loader = DataLoader(test_dataset, batch_size=4, shuffle=False)"
   ]
  },
  {
   "cell_type": "markdown",
   "metadata": {},
   "source": [
    "DESCRIZIONE DEL MODELLO GAT USATO DA NOI.. FAI RIFERIMENTO AL PAPER OPPURE AL FILE MODEL.PY IN /GAT"
   ]
  },
  {
   "cell_type": "code",
   "execution_count": 12,
   "metadata": {},
   "outputs": [
    {
     "name": "stdout",
     "output_type": "stream",
     "text": [
      "Epoch: 01, Loss: 0.7536, Acc: 0.4226\n",
      "Epoch: 02, Loss: 0.6801, Acc: 0.3810\n",
      "Epoch: 03, Loss: 0.6832, Acc: 0.3790\n",
      "Epoch: 04, Loss: 0.6222, Acc: 0.4400\n",
      "Epoch: 05, Loss: 0.6156, Acc: 0.4468\n",
      "Epoch: 06, Loss: 0.6720, Acc: 0.4529\n",
      "Epoch: 07, Loss: 0.7165, Acc: 0.4633\n",
      "Epoch: 08, Loss: 0.6544, Acc: 0.4316\n",
      "Epoch: 09, Loss: 0.6289, Acc: 0.4537\n",
      "Epoch: 10, Loss: 0.6482, Acc: 0.4421\n",
      "Epoch: 11, Loss: 0.5713, Acc: 0.4239\n",
      "Epoch: 12, Loss: 0.6068, Acc: 0.4197\n",
      "Epoch: 13, Loss: 0.8002, Acc: 0.4168\n",
      "Epoch: 14, Loss: 0.8466, Acc: 0.4613\n",
      "Epoch: 15, Loss: 0.6561, Acc: 0.4474\n",
      "Epoch: 16, Loss: 0.5970, Acc: 0.4179\n",
      "Epoch: 17, Loss: 0.6979, Acc: 0.4191\n",
      "Epoch: 18, Loss: 0.7053, Acc: 0.4709\n",
      "Epoch: 19, Loss: 0.5955, Acc: 0.4533\n",
      "Epoch: 20, Loss: 0.5896, Acc: 0.4917\n",
      "Epoch: 21, Loss: 0.6104, Acc: 0.4518\n",
      "Epoch: 22, Loss: 0.7435, Acc: 0.4291\n",
      "Epoch: 23, Loss: 0.6718, Acc: 0.5027\n",
      "Epoch: 24, Loss: 0.5976, Acc: 0.4605\n",
      "Epoch: 25, Loss: 0.5660, Acc: 0.4668\n",
      "Epoch: 26, Loss: 0.5587, Acc: 0.4756\n",
      "Epoch: 27, Loss: 0.5985, Acc: 0.4859\n",
      "Epoch: 28, Loss: 0.6049, Acc: 0.4964\n",
      "Epoch: 29, Loss: 0.5814, Acc: 0.4835\n",
      "Epoch: 30, Loss: 0.5703, Acc: 0.5060\n",
      "Epoch: 31, Loss: 0.5568, Acc: 0.5194\n",
      "Epoch: 32, Loss: 0.5420, Acc: 0.4867\n",
      "Epoch: 33, Loss: 0.5490, Acc: 0.4968\n",
      "Epoch: 34, Loss: 0.5573, Acc: 0.4900\n",
      "Epoch: 35, Loss: 0.5566, Acc: 0.5097\n",
      "Epoch: 36, Loss: 0.5372, Acc: 0.5158\n",
      "Epoch: 37, Loss: 0.5221, Acc: 0.5232\n",
      "Epoch: 38, Loss: 0.5101, Acc: 0.5001\n",
      "Epoch: 39, Loss: 0.5207, Acc: 0.5320\n",
      "Epoch: 40, Loss: 0.5398, Acc: 0.4999\n",
      "Epoch: 41, Loss: 0.5250, Acc: 0.5340\n",
      "Epoch: 42, Loss: 0.5172, Acc: 0.5219\n",
      "Epoch: 43, Loss: 0.5039, Acc: 0.5086\n",
      "Epoch: 44, Loss: 0.5031, Acc: 0.5159\n",
      "Epoch: 45, Loss: 0.5110, Acc: 0.5202\n",
      "Epoch: 46, Loss: 0.5103, Acc: 0.4871\n",
      "Epoch: 47, Loss: 0.5009, Acc: 0.5368\n",
      "Epoch: 48, Loss: 0.5017, Acc: 0.5323\n",
      "Epoch: 49, Loss: 0.4986, Acc: 0.5352\n",
      "Epoch: 50, Loss: 0.5082, Acc: 0.5372\n",
      "Epoch: 51, Loss: 0.4926, Acc: 0.5259\n",
      "Epoch: 52, Loss: 0.4970, Acc: 0.5200\n",
      "Epoch: 53, Loss: 0.5053, Acc: 0.5249\n",
      "Epoch: 54, Loss: 0.5012, Acc: 0.5278\n",
      "Epoch: 55, Loss: 0.5279, Acc: 0.5377\n",
      "Epoch: 56, Loss: 0.5755, Acc: 0.5313\n",
      "Epoch: 57, Loss: 0.5766, Acc: 0.5245\n",
      "Epoch: 58, Loss: 0.5226, Acc: 0.5181\n",
      "Epoch: 59, Loss: 0.5033, Acc: 0.5264\n"
     ]
    }
   ],
   "source": [
    "#  BUILDING AND TRAINING OUR MODEL\n",
    "model = GAT(n_features,n_classes)\n",
    "for epoch in range(1, 60):\n",
    "    loss = train(model,train_loader) \n",
    "    acc = test(model,valid_loader) \n",
    "    print('Epoch: {:02d}, Loss: {:.4f}, Acc: {:.4f}'.format(epoch, loss, acc))"
   ]
  },
  {
   "cell_type": "code",
   "execution_count": 17,
   "metadata": {},
   "outputs": [],
   "source": [
    "#  MAKING PREDICTIONS\n",
    "model.cpu()\n",
    "for data in test_loader:    \n",
    "    out = model(data.x,data.edge_index)\n",
    "    \n",
    "pred = out.float().cpu() > 0\n",
    "pred = utils.a_third_law(labels,pred)\n",
    "\n",
    "utils.get_results('./results/gat_pred.csv',pred, X_test_df)  # SAVING RESULTS IN A .CSV "
   ]
  },
  {
   "cell_type": "markdown",
   "metadata": {},
   "source": [
    "COMMENTIAMO I RISULTATI OTTENUTI.. 0.52  BEST SCORE ( ABBIAMO USATO UN PO DI STATISTICA PER AIUTARCI )\n"
   ]
  },
  {
   "cell_type": "markdown",
   "metadata": {},
   "source": [
    "APPROCCIAMO IL METODO STATISTICO.. SPIEGA UN PO LMEAN E COSA ANDIAMO A FARE"
   ]
  },
  {
   "cell_type": "code",
   "execution_count": 155,
   "metadata": {},
   "outputs": [],
   "source": [
    "lmean = utils.get_lmean(labels)    \n",
    "lmean = utils.sort_lmean(lmean)  #  DESCENDING ORDER "
   ]
  },
  {
   "cell_type": "markdown",
   "metadata": {},
   "source": [
    "SPIEGA L'ALGORITMO.. UN PO DI FORMULE FANNO BENE\n"
   ]
  },
  {
   "cell_type": "code",
   "execution_count": 174,
   "metadata": {},
   "outputs": [],
   "source": [
    "A = 0\n",
    "k = 0\n",
    "f1_values = np.zeros(lmean.shape[0])\n",
    "for i in range(lmean.shape[0]):\n",
    "    k += lmean[i][0]\n",
    "for s in range(lmean.shape[0]):\n",
    "    A += lmean[s][0]\n",
    "    f1 = 2 * A / (k+ntr*(s+1))\n",
    "    f1_values[s] = f1"
   ]
  },
  {
   "cell_type": "code",
   "execution_count": 185,
   "metadata": {},
   "outputs": [
    {
     "data": {
      "text/plain": [
       "[<matplotlib.lines.Line2D at 0x7f85e9658c18>]"
      ]
     },
     "execution_count": 185,
     "metadata": {},
     "output_type": "execute_result"
    },
    {
     "data": {
      "image/png": "[encoded data removed]",
      "text/plain": [
       "<Figure size 432x288 with 1 Axes>"
      ]
     },
     "metadata": {},
     "output_type": "display_data"
    }
   ],
   "source": [
    "%matplotlib inline\n",
    "plt.plot(f1_values)\n",
    "\n"
   ]
  },
  {
   "cell_type": "code",
   "execution_count": null,
   "metadata": {},
   "outputs": [],
   "source": [
    "mask = lmean_f[:np.argmax(f1_values),1]\n",
    "pred = np.zeros((X_test.shape[0],labels.shape[1]))\n",
    "\n",
    "for col in range(labels.shape[1]):\n",
    "    for i in range(np.argmax(f1_values)):\n",
    "        if(mask[i] == col):\n",
    "            pred[:,col] =1 \n",
    "            \n",
    "utils.get_results('./results/stat.csv',pred, X_test_df)  # SAVING RESULTS IN A .CSV  "
   ]
  },
  {
   "cell_type": "code",
   "execution_count": 105,
   "metadata": {},
   "outputs": [],
   "source": [
    "\n"
   ]
  },
  {
   "cell_type": "code",
   "execution_count": null,
   "metadata": {},
   "outputs": [],
   "source": []
  },
  {
   "cell_type": "code",
   "execution_count": 136,
   "metadata": {},
   "outputs": [],
   "source": [
    "\n",
    "            "
   ]
  },
  {
   "cell_type": "code",
   "execution_count": null,
   "metadata": {},
   "outputs": [],
   "source": []
  },
  {
   "cell_type": "code",
   "execution_count": 139,
   "metadata": {},
   "outputs": [],
   "source": []
  },
  {
   "cell_type": "code",
   "execution_count": null,
   "metadata": {},
   "outputs": [],
   "source": []
  }
 ],
 "metadata": {
  "kernelspec": {
   "display_name": "Python 3",
   "language": "python",
   "name": "python3"
  },
  "language_info": {
   "codemirror_mode": {
    "name": "ipython",
    "version": 3
   },
   "file_extension": ".py",
   "mimetype": "text/x-python",
   "name": "python",
   "nbconvert_exporter": "python",
   "pygments_lexer": "ipython3",
   "version": "3.6.5"
  }
 },
 "nbformat": 4,
 "nbformat_minor": 2
}
